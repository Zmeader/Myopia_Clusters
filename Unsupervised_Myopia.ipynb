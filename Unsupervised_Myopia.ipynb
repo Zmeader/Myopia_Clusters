{
 "cells": [
  {
   "cell_type": "markdown",
   "id": "75613993",
   "metadata": {},
   "source": [
    "Myopia Clusters!"
   ]
  },
  {
   "cell_type": "code",
   "execution_count": null,
   "id": "da26349d",
   "metadata": {},
   "outputs": [],
   "source": [
    "#Imports\n",
    "import pandas as pd\n",
    "from sklearn.cluster import KMeans\n",
    "from pathlib import Path\n",
    "import matplotlib.pyplot as plt\n",
    "from sklearn.preprocessing import StandardScaler\n",
    "from sklearn.decomposition import PCA\n",
    "from sklearn.cluster import KMeans"
   ]
  },
  {
   "cell_type": "code",
   "execution_count": null,
   "id": "8d373f3a",
   "metadata": {},
   "outputs": [],
   "source": [
    "file_path = \"Resources/myopia.csv\"\n",
    "my_df = pd.read_csv(file_path)"
   ]
  },
  {
   "cell_type": "code",
   "execution_count": null,
   "id": "6500d1d7",
   "metadata": {},
   "outputs": [],
   "source": [
    "my_df"
   ]
  },
  {
   "cell_type": "code",
   "execution_count": null,
   "id": "27fcf21d",
   "metadata": {},
   "outputs": [],
   "source": [
    "myopia_df = my_df.drop([\"MYOPIC\"], axis=1)\n",
    "myopia_df"
   ]
  },
  {
   "cell_type": "code",
   "execution_count": null,
   "id": "3dfc0737",
   "metadata": {},
   "outputs": [],
   "source": [
    "#scale the columns in order for them to be closer in range with eachother\n",
    "scaler = StandardScaler()\n",
    "scaled_data = scaler.fit_transform(myopia_df[[\"AGE\", \"SPHEQ\", \"AL\", \"ACD\", \"LT\", \"VCD\", \"SPORTHR\", \n",
    "                                              \"READHR\", \"COMPHR\", \"STUDYHR\", \"TVHR\", \"DIOPTERHR\", \"MOMMY\", \"DADMY\"]])"
   ]
  },
  {
   "cell_type": "code",
   "execution_count": null,
   "id": "ceafe318",
   "metadata": {},
   "outputs": [],
   "source": [
    "scaled_df = pd.DataFrame(scaled_data, columns=myopia_df.columns)\n",
    "scaled_df"
   ]
  },
  {
   "cell_type": "code",
   "execution_count": null,
   "id": "01ee43d5",
   "metadata": {},
   "outputs": [],
   "source": [
    "#Add PCA elements\n",
    "pca = PCA(n_components=.9)\n",
    "myopia_PCA = pca.fit_transform(scaled_df)"
   ]
  },
  {
   "cell_type": "code",
   "execution_count": null,
   "id": "439d036a",
   "metadata": {},
   "outputs": [],
   "source": [
    "pca.explained_variance_ratio_"
   ]
  },
  {
   "cell_type": "code",
   "execution_count": null,
   "id": "49e19b48",
   "metadata": {},
   "outputs": [],
   "source": [
    "df_myopia_pca = pd.DataFrame(\n",
    "    data=myopia_PCA, columns=[\"PC_1\", \"PC_2\", \"PC_3\", \"PC_4\", \"PC_5\", \"PC_6\", \"PC_7\", \"PC_8\", \"PC_9\", \"PC_10\"])\n",
    "df_myopia_pca.head()"
   ]
  },
  {
   "cell_type": "code",
   "execution_count": null,
   "id": "b037ebe0",
   "metadata": {},
   "outputs": [],
   "source": [
    "#add a t-sne element\n",
    "from sklearn.manifold import TSNE\n",
    "tsne = TSNE(learning_rate=50)\n",
    "tsne_features = tsne.fit_transform(df_myopia_pca)"
   ]
  },
  {
   "cell_type": "code",
   "execution_count": null,
   "id": "038d41cf",
   "metadata": {},
   "outputs": [],
   "source": [
    "tsne_features.shape"
   ]
  },
  {
   "cell_type": "code",
   "execution_count": null,
   "id": "17ee6928",
   "metadata": {},
   "outputs": [],
   "source": [
    "df_myopia_pca['PC_x'] = tsne_features[:,0]\n",
    "df_myopia_pca[\"PC_y\"] = tsne_features[:,1]\n"
   ]
  },
  {
   "cell_type": "code",
   "execution_count": null,
   "id": "973975bb",
   "metadata": {},
   "outputs": [],
   "source": [
    "#Plot the results from the TSNE\n",
    "plt.scatter(df_myopia_pca['PC_x'], df_myopia_pca[\"PC_y\"])\n",
    "plt.show()"
   ]
  },
  {
   "cell_type": "markdown",
   "id": "e094eda3",
   "metadata": {},
   "source": [
    "Based on the above scatter plot of the TSNE results, it appears there are roughly 4 different clusters. "
   ]
  },
  {
   "cell_type": "code",
   "execution_count": null,
   "id": "93dc516c",
   "metadata": {},
   "outputs": [],
   "source": [
    "#add labels\n",
    "labels=my_df[\"MYOPIC\"]"
   ]
  },
  {
   "cell_type": "code",
   "execution_count": null,
   "id": "140168a1",
   "metadata": {},
   "outputs": [],
   "source": [
    "plt.scatter(df_myopia_pca['PC_x'], df_myopia_pca[\"PC_y\"], c=labels)\n",
    "plt.show()"
   ]
  },
  {
   "cell_type": "code",
   "execution_count": null,
   "id": "f1cd4bfa",
   "metadata": {},
   "outputs": [],
   "source": [
    "#Create and runt the K-means model\n",
    "model = KMeans(n_clusters=10, random_state=0)"
   ]
  },
  {
   "cell_type": "code",
   "execution_count": null,
   "id": "adc94d15",
   "metadata": {},
   "outputs": [],
   "source": [
    "#fit the model\n",
    "model.fit(df_myopia_pca)"
   ]
  },
  {
   "cell_type": "code",
   "execution_count": null,
   "id": "39e3e813",
   "metadata": {},
   "outputs": [],
   "source": [
    "#predictions\n",
    "predictions = model.predict(df_myopia_pca)"
   ]
  },
  {
   "cell_type": "code",
   "execution_count": null,
   "id": "cfc3f27e",
   "metadata": {},
   "outputs": [],
   "source": [
    "#add a new class column to the dataset\n",
    "df_myopia_pca[\"class\"] = model.labels_\n",
    "df_myopia_pca.head()"
   ]
  },
  {
   "cell_type": "code",
   "execution_count": null,
   "id": "693acb40",
   "metadata": {},
   "outputs": [],
   "source": [
    "#Find the best value for K\n",
    "inertia = []\n",
    "k = list(range(1, 11))\n",
    "\n",
    "#look for the best K\n",
    "for i in k:\n",
    "    km = KMeans(n_clusters=i, random_state=0)\n",
    "    km.fit(df_myopia_pca)\n",
    "    inertia.append(km.inertia_)\n",
    "    \n",
    "#define DF to plot Elbow curve\n",
    "elbow_data = {\"k\": k, \"inertia\": inertia}\n",
    "df_elbow = pd.DataFrame(elbow_data)\n",
    "\n",
    "plt.plot(df_elbow['k'], df_elbow['inertia'])\n",
    "plt.xticks(list(range(11)))\n",
    "plt.xlabel('Number of clusters')\n",
    "plt.ylabel('Inertia')\n",
    "plt.show()"
   ]
  },
  {
   "cell_type": "code",
   "execution_count": null,
   "id": "2f060b71",
   "metadata": {},
   "outputs": [],
   "source": [
    "df_elbow"
   ]
  },
  {
   "cell_type": "code",
   "execution_count": null,
   "id": "6a21032d",
   "metadata": {},
   "outputs": [],
   "source": [
    "model = KMeans(n_clusters=3, random_state=4)\n",
    "model.fit(df_myopia_pca)"
   ]
  },
  {
   "cell_type": "code",
   "execution_count": null,
   "id": "934b18c2",
   "metadata": {},
   "outputs": [],
   "source": [
    "predicition = model.predict(df_myopia_pca)"
   ]
  },
  {
   "cell_type": "code",
   "execution_count": null,
   "id": "6f0c2e1f",
   "metadata": {},
   "outputs": [],
   "source": [
    "def get_clusters(k, data):\n",
    "    # Initialize the K-Means model\n",
    "    model = KMeans(n_clusters=k, random_state=0)\n",
    "\n",
    "    # Train the model\n",
    "    model.fit(df_myopia_pca)\n",
    "\n",
    "    # Predict clusters\n",
    "    predictions = model.predict(df_myopia_pca)\n",
    "\n",
    "    # Create return DataFrame with predicted clusters\n",
    "    df_myopia_pca[\"class\"] = model.labels_\n",
    "\n",
    "    return df_myopia_pca"
   ]
  },
  {
   "cell_type": "code",
   "execution_count": null,
   "id": "6a0a790a",
   "metadata": {},
   "outputs": [],
   "source": [
    "df_clusters = get_clusters(3, df_myopia_pca)\n",
    "df_clusters"
   ]
  },
  {
   "cell_type": "code",
   "execution_count": null,
   "id": "074eb86e",
   "metadata": {},
   "outputs": [],
   "source": [
    "def show_clusters(df):\n",
    "    plt.scatter(df_myopia_pca['PC_x'], df_myopia_pca[\"PC_y\"], c=df_myopia_pca[\"class\"])\n",
    "    plt.show\n",
    "    \n",
    "show_clusters(df_clusters)"
   ]
  },
  {
   "cell_type": "markdown",
   "id": "b2b5369a",
   "metadata": {},
   "source": [
    "After creating an unsupervised model for the myopia data, it appears the most accurate number of clusters for patients is 3. "
   ]
  }
 ],
 "metadata": {
  "kernelspec": {
   "display_name": "Python [conda env:PythonData38] *",
   "language": "python",
   "name": "conda-env-PythonData38-py"
  },
  "language_info": {
   "codemirror_mode": {
    "name": "ipython",
    "version": 3
   },
   "file_extension": ".py",
   "mimetype": "text/x-python",
   "name": "python",
   "nbconvert_exporter": "python",
   "pygments_lexer": "ipython3",
   "version": "3.8.12"
  }
 },
 "nbformat": 4,
 "nbformat_minor": 5
}
